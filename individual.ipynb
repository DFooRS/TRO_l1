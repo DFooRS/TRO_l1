{
 "cells": [
  {
   "cell_type": "markdown",
   "id": "158504fc",
   "metadata": {},
   "source": [
    "# Задача N тел связанных гравитационно\n",
    "\n",
    "\n",
    "Дано начальное положение N точечных тел. Каждое тело характеризуется массой m (скалярная величина) и начальной скоростью v (вектор). Предполагается, что на тела не действуют никакие силы,\n",
    "кроме гравитационных. Под действием гравитации тела изменяют свое положение, а также скорость. "
   ]
  },
  {
   "cell_type": "markdown",
   "id": "75e72062",
   "metadata": {},
   "source": [
    "Эволюция системы N гравитирующих тел (материальных точек) описывается следующей системой уравнений:\n",
    "\n",
    "$ \\frac{dr_i}{dt} = v_i $\n",
    "\n",
    "$ \\frac{dv_i}{dt} = \\sum_{j≠i}^N Gm_i\\frac{r_j - r_i}{|r_j - r_i|} $\n",
    "\n",
    "где $ m_i, r_i, v_i $ — масса, радиус-вектор и скорость i-го тела соответственно (i изменяется от 1 до N), G — гравитационная постоянная. Массы тел, а также положения и скорости в начальный момент времени считаются известными. Необходимо найти положения и скорости всех частиц в произвольный момент времени."
   ]
  },
  {
   "cell_type": "code",
   "execution_count": 1,
   "id": "7c2056ce",
   "metadata": {},
   "outputs": [],
   "source": [
    "import math\n",
    "G = 6.6743 * 10**-11\n",
    "dt = 70\n",
    "N = 3\n",
    "fmax = 1000"
   ]
  },
  {
   "cell_type": "markdown",
   "id": "58b7bd24",
   "metadata": {},
   "source": [
    "Найдём скорость и положение трёх тел через 70 секунд от начального положения"
   ]
  },
  {
   "cell_type": "code",
   "execution_count": 3,
   "id": "2fda3c97",
   "metadata": {},
   "outputs": [
    {
     "name": "stdout",
     "output_type": "stream",
     "text": [
      "Координаты 1-го объекта в 70 момент времени:\n",
      " x: 4480.000000000426\n",
      " y: 280.0000000000637\n",
      " Скорость (по оси Ох): 1.2167810236460214e-11\n",
      " Скорость (по оси Оу): 1.8215904642194257e-12\n",
      "\n",
      "Координаты 2-го объекта в 70 момент времени:\n",
      " x: 140.00000000000603\n",
      " y: 3709.9999999999823\n",
      " Скорость (по оси Ох): 1.7186948466284874e-13\n",
      " Скорость (по оси Оу): -5.176595597962049e-13\n",
      "\n",
      "Координаты 3-го объекта в 70 момент времени:\n",
      " x: 4689.999999999854\n",
      " y: 629.9999999999908\n",
      " Скорость (по оси Ох): -4.170516401928637e-12\n",
      " Скорость (по оси Оу): -2.6209044820900524e-13\n",
      "\n"
     ]
    }
   ],
   "source": [
    "mass = [11, 22, 33]\n",
    "xcords = [222, 111, 333]\n",
    "ycords = [42, 632, 56]\n",
    "xspeeds = [64, 2, 67]\n",
    "yspeeds = [4, 53, 9]\n",
    "fx = [0, 0, 0]\n",
    "fy = [0, 0, 0]\n",
    "\n",
    "for i, xcord in enumerate(xcords):\n",
    "    for j, ycord in enumerate(ycords):\n",
    "        if i == j:\n",
    "            continue\n",
    "        dx = xcords[j] - xcord\n",
    "        dy = ycord - ycords[i]\n",
    "        r2 = 1 / (dx * dx + dy * dy)\n",
    "        r1 = math.sqrt(r2)\n",
    "        fabs = G * mass[i] * mass[j] * r2\n",
    "        fx[i] = fx[i] + fabs * dx * r1\n",
    "        fy[i] = fy[i] + fabs * dy * r1\n",
    "        \n",
    "for i, item in enumerate(mass):\n",
    "    dvx = fx[i] * dt / item\n",
    "    dvy = fy[i] * dt / item\n",
    "    xcords[i] = (xspeeds[i] + dvx / 2) * dt\n",
    "    ycords[i] = (yspeeds[i] + dvy / 2) * dt\n",
    "    xspeeds[i] = dvx\n",
    "    yspeeds[i] = dvy\n",
    "\n",
    "for i in range(0, N):\n",
    "    print(f'Координаты {i+1}-го объекта в {dt} момент времени:\\n',\n",
    "          f'x: {xcords[i]}\\n',\n",
    "          f'y: {ycords[i]}\\n',\n",
    "          f'Скорость (по оси Ох): {xspeeds[i]}\\n',\n",
    "          f'Скорость (по оси Оу): {yspeeds[i]}\\n')"
   ]
  },
  {
   "cell_type": "code",
   "execution_count": null,
   "id": "328cb07f",
   "metadata": {},
   "outputs": [],
   "source": []
  }
 ],
 "metadata": {
  "kernelspec": {
   "display_name": "Python 3 (ipykernel)",
   "language": "python",
   "name": "python3"
  },
  "language_info": {
   "codemirror_mode": {
    "name": "ipython",
    "version": 3
   },
   "file_extension": ".py",
   "mimetype": "text/x-python",
   "name": "python",
   "nbconvert_exporter": "python",
   "pygments_lexer": "ipython3",
   "version": "3.9.13"
  }
 },
 "nbformat": 4,
 "nbformat_minor": 5
}
