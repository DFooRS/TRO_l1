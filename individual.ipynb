{
 "cells": [
  {
   "cell_type": "markdown",
   "id": "158504fc",
   "metadata": {},
   "source": [
    "С какой силой давит человек массой 70кг на пол лифта , движущегося с ускорением 1м/с^2 вертикально вверх?\n",
    "\n",
    "$ P = F = m * (g + a) $"
   ]
  },
  {
   "cell_type": "code",
   "execution_count": 1,
   "id": "f522fb86",
   "metadata": {},
   "outputs": [
    {
     "name": "stdout",
     "output_type": "stream",
     "text": [
      "Сила давления P равна: 616.0 Н\n"
     ]
    }
   ],
   "source": [
    "m = 70\n",
    "a = 1\n",
    "g = 9.8\n",
    "N = m * (g - a)\n",
    "P = N\n",
    "print(f\"Сила давления P равна: {P} Н\")"
   ]
  }
 ],
 "metadata": {
  "kernelspec": {
   "display_name": "Python 3 (ipykernel)",
   "language": "python",
   "name": "python3"
  },
  "language_info": {
   "codemirror_mode": {
    "name": "ipython",
    "version": 3
   },
   "file_extension": ".py",
   "mimetype": "text/x-python",
   "name": "python",
   "nbconvert_exporter": "python",
   "pygments_lexer": "ipython3",
   "version": "3.9.13"
  }
 },
 "nbformat": 4,
 "nbformat_minor": 5
}
