{
 "cells": [
  {
   "cell_type": "code",
   "execution_count": 2,
   "id": "c5bedc33",
   "metadata": {},
   "outputs": [
    {
     "name": "stdout",
     "output_type": "stream",
     "text": [
      "Сила давления P равна: 616.0 Н\n"
     ]
    }
   ],
   "source": [
    "m = 70\n",
    "a = 1\n",
    "g = 9.8\n",
    "N = m * (g - a)\n",
    "P = N\n",
    "print(f\"Сила давления P равна: {P} Н\")"
   ]
  },
  {
   "cell_type": "code",
   "execution_count": null,
   "id": "f522fb86",
   "metadata": {},
   "outputs": [],
   "source": []
  }
 ],
 "metadata": {
  "kernelspec": {
   "display_name": "Python 3 (ipykernel)",
   "language": "python",
   "name": "python3"
  },
  "language_info": {
   "codemirror_mode": {
    "name": "ipython",
    "version": 3
   },
   "file_extension": ".py",
   "mimetype": "text/x-python",
   "name": "python",
   "nbconvert_exporter": "python",
   "pygments_lexer": "ipython3",
   "version": "3.9.13"
  }
 },
 "nbformat": 4,
 "nbformat_minor": 5
}
